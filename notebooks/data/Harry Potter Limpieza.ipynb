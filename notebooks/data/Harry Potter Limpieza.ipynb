{
 "cells": [
  {
   "cell_type": "markdown",
   "id": "777cccd0",
   "metadata": {},
   "source": [
    "# Harry Potter Limpieza"
   ]
  },
  {
   "cell_type": "markdown",
   "id": "e69239af",
   "metadata": {},
   "source": [
    "En este jupyter hare la limpieza del dialogo de la pelicula Harry Potter y la piedra filosofal para poder insetarla posteriorme en la base de datos publications y tener y ejecutar las funciones."
   ]
  },
  {
   "cell_type": "code",
   "execution_count": 1,
   "id": "55b1dd4d",
   "metadata": {},
   "outputs": [],
   "source": [
    "import pandas as pd"
   ]
  },
  {
   "cell_type": "markdown",
   "id": "ad6eda75",
   "metadata": {},
   "source": [
    "## Exploramos dataset "
   ]
  },
  {
   "cell_type": "code",
   "execution_count": 2,
   "id": "8b2d0e0e",
   "metadata": {},
   "outputs": [],
   "source": [
    "harry_potter = pd.read_csv('./hp_script.csv')"
   ]
  },
  {
   "cell_type": "code",
   "execution_count": 3,
   "id": "adfbecb6",
   "metadata": {},
   "outputs": [
    {
     "data": {
      "text/html": [
       "<div>\n",
       "<style scoped>\n",
       "    .dataframe tbody tr th:only-of-type {\n",
       "        vertical-align: middle;\n",
       "    }\n",
       "\n",
       "    .dataframe tbody tr th {\n",
       "        vertical-align: top;\n",
       "    }\n",
       "\n",
       "    .dataframe thead th {\n",
       "        text-align: right;\n",
       "    }\n",
       "</style>\n",
       "<table border=\"1\" class=\"dataframe\">\n",
       "  <thead>\n",
       "    <tr style=\"text-align: right;\">\n",
       "      <th></th>\n",
       "      <th>ID_number</th>\n",
       "      <th>scene</th>\n",
       "      <th>character_name</th>\n",
       "      <th>dialogue</th>\n",
       "    </tr>\n",
       "  </thead>\n",
       "  <tbody>\n",
       "    <tr>\n",
       "      <th>0</th>\n",
       "      <td>1</td>\n",
       "      <td>1</td>\n",
       "      <td>Albus Dumbledore</td>\n",
       "      <td>I should have known that you would be here, Pr...</td>\n",
       "    </tr>\n",
       "    <tr>\n",
       "      <th>1</th>\n",
       "      <td>2</td>\n",
       "      <td>1</td>\n",
       "      <td>Minerva McGonagall</td>\n",
       "      <td>Good evening, Professor Dumbledore. Are the ru...</td>\n",
       "    </tr>\n",
       "    <tr>\n",
       "      <th>2</th>\n",
       "      <td>3</td>\n",
       "      <td>1</td>\n",
       "      <td>Albus Dumbledore</td>\n",
       "      <td>I'm afraid so, Professor. The good, and the bad.</td>\n",
       "    </tr>\n",
       "    <tr>\n",
       "      <th>3</th>\n",
       "      <td>4</td>\n",
       "      <td>1</td>\n",
       "      <td>Minerva McGonagall</td>\n",
       "      <td>And the boy?</td>\n",
       "    </tr>\n",
       "    <tr>\n",
       "      <th>4</th>\n",
       "      <td>5</td>\n",
       "      <td>1</td>\n",
       "      <td>Albus Dumbledore</td>\n",
       "      <td>Hagrid is bringing him.</td>\n",
       "    </tr>\n",
       "  </tbody>\n",
       "</table>\n",
       "</div>"
      ],
      "text/plain": [
       "   ID_number  scene      character_name  \\\n",
       "0          1      1    Albus Dumbledore   \n",
       "1          2      1  Minerva McGonagall   \n",
       "2          3      1    Albus Dumbledore   \n",
       "3          4      1  Minerva McGonagall   \n",
       "4          5      1    Albus Dumbledore   \n",
       "\n",
       "                                            dialogue  \n",
       "0  I should have known that you would be here, Pr...  \n",
       "1  Good evening, Professor Dumbledore. Are the ru...  \n",
       "2   I'm afraid so, Professor. The good, and the bad.  \n",
       "3                                       And the boy?  \n",
       "4                            Hagrid is bringing him.  "
      ]
     },
     "execution_count": 3,
     "metadata": {},
     "output_type": "execute_result"
    }
   ],
   "source": [
    "harry_potter.head()"
   ]
  },
  {
   "cell_type": "code",
   "execution_count": 4,
   "id": "6cc18740",
   "metadata": {},
   "outputs": [
    {
     "data": {
      "text/plain": [
       "0      I should have known that you would be here, Pr...\n",
       "1      Good evening, Professor Dumbledore. Are the ru...\n",
       "2       I'm afraid so, Professor. The good, and the bad.\n",
       "3                                           And the boy?\n",
       "4                                Hagrid is bringing him.\n",
       "                             ...                        \n",
       "788    Go on. On with you, on with you now. Oh, now l...\n",
       "789    But Hagrid, we're not allowed to do magic away...\n",
       "790       I do, but your cousin don't, do he? Eh? Hmmhmm\n",
       "791          Feels strange to be going home, doesn't it?\n",
       "792                      I'm not going home, not really.\n",
       "Name: dialogue, Length: 793, dtype: object"
      ]
     },
     "execution_count": 4,
     "metadata": {},
     "output_type": "execute_result"
    }
   ],
   "source": [
    "harry_potter.dialogue"
   ]
  },
  {
   "cell_type": "code",
   "execution_count": 5,
   "id": "7fe94168",
   "metadata": {},
   "outputs": [],
   "source": [
    "harry_potter.drop(\"ID_number\", axis=1, inplace=True)"
   ]
  },
  {
   "cell_type": "markdown",
   "id": "51948c4d",
   "metadata": {},
   "source": [
    "#### Debido a la cantidad de información solo nos vamos a quedar con las escenas a partir de la 25."
   ]
  },
  {
   "cell_type": "code",
   "execution_count": 6,
   "id": "6a2c90d5",
   "metadata": {},
   "outputs": [],
   "source": [
    "#data.drop(data.loc[data['character_name']!=\"Albus Dumbledore\"].index, inplace=True)"
   ]
  },
  {
   "cell_type": "code",
   "execution_count": 7,
   "id": "062ff2ee",
   "metadata": {},
   "outputs": [],
   "source": [
    "harry_potter.drop(harry_potter.loc[harry_potter[\"scene\"]<=28].index, inplace=True)"
   ]
  },
  {
   "cell_type": "code",
   "execution_count": 8,
   "id": "f35db5e8",
   "metadata": {},
   "outputs": [
    {
     "data": {
      "text/html": [
       "<div>\n",
       "<style scoped>\n",
       "    .dataframe tbody tr th:only-of-type {\n",
       "        vertical-align: middle;\n",
       "    }\n",
       "\n",
       "    .dataframe tbody tr th {\n",
       "        vertical-align: top;\n",
       "    }\n",
       "\n",
       "    .dataframe thead th {\n",
       "        text-align: right;\n",
       "    }\n",
       "</style>\n",
       "<table border=\"1\" class=\"dataframe\">\n",
       "  <thead>\n",
       "    <tr style=\"text-align: right;\">\n",
       "      <th></th>\n",
       "      <th>scene</th>\n",
       "      <th>character_name</th>\n",
       "      <th>dialogue</th>\n",
       "    </tr>\n",
       "  </thead>\n",
       "  <tbody>\n",
       "    <tr>\n",
       "      <th>725</th>\n",
       "      <td>29</td>\n",
       "      <td>Harry Potter</td>\n",
       "      <td>Wait a minute.</td>\n",
       "    </tr>\n",
       "    <tr>\n",
       "      <th>726</th>\n",
       "      <td>29</td>\n",
       "      <td>Ron Weasley</td>\n",
       "      <td>You understand right, Harry. Once I make my mo...</td>\n",
       "    </tr>\n",
       "    <tr>\n",
       "      <th>727</th>\n",
       "      <td>29</td>\n",
       "      <td>Harry Potter</td>\n",
       "      <td>No, Ron, no!</td>\n",
       "    </tr>\n",
       "    <tr>\n",
       "      <th>728</th>\n",
       "      <td>29</td>\n",
       "      <td>Hermione Granger</td>\n",
       "      <td>What is it?</td>\n",
       "    </tr>\n",
       "    <tr>\n",
       "      <th>729</th>\n",
       "      <td>29</td>\n",
       "      <td>Harry Potter</td>\n",
       "      <td>He's going to sacrifice himself.</td>\n",
       "    </tr>\n",
       "    <tr>\n",
       "      <th>...</th>\n",
       "      <td>...</td>\n",
       "      <td>...</td>\n",
       "      <td>...</td>\n",
       "    </tr>\n",
       "    <tr>\n",
       "      <th>788</th>\n",
       "      <td>34</td>\n",
       "      <td>Rubeus Hagrid</td>\n",
       "      <td>Go on. On with you, on with you now. Oh, now l...</td>\n",
       "    </tr>\n",
       "    <tr>\n",
       "      <th>789</th>\n",
       "      <td>34</td>\n",
       "      <td>Harry Potter</td>\n",
       "      <td>But Hagrid, we're not allowed to do magic away...</td>\n",
       "    </tr>\n",
       "    <tr>\n",
       "      <th>790</th>\n",
       "      <td>34</td>\n",
       "      <td>Rubeus Hagrid</td>\n",
       "      <td>I do, but your cousin don't, do he? Eh? Hmmhmm</td>\n",
       "    </tr>\n",
       "    <tr>\n",
       "      <th>791</th>\n",
       "      <td>34</td>\n",
       "      <td>Hermione Granger</td>\n",
       "      <td>Feels strange to be going home, doesn't it?</td>\n",
       "    </tr>\n",
       "    <tr>\n",
       "      <th>792</th>\n",
       "      <td>34</td>\n",
       "      <td>Harry Potter</td>\n",
       "      <td>I'm not going home, not really.</td>\n",
       "    </tr>\n",
       "  </tbody>\n",
       "</table>\n",
       "<p>68 rows × 3 columns</p>\n",
       "</div>"
      ],
      "text/plain": [
       "     scene    character_name  \\\n",
       "725     29      Harry Potter   \n",
       "726     29       Ron Weasley   \n",
       "727     29      Harry Potter   \n",
       "728     29  Hermione Granger   \n",
       "729     29      Harry Potter   \n",
       "..     ...               ...   \n",
       "788     34     Rubeus Hagrid   \n",
       "789     34      Harry Potter   \n",
       "790     34     Rubeus Hagrid   \n",
       "791     34  Hermione Granger   \n",
       "792     34      Harry Potter   \n",
       "\n",
       "                                              dialogue  \n",
       "725                                     Wait a minute.  \n",
       "726  You understand right, Harry. Once I make my mo...  \n",
       "727                                       No, Ron, no!  \n",
       "728                                        What is it?  \n",
       "729                   He's going to sacrifice himself.  \n",
       "..                                                 ...  \n",
       "788  Go on. On with you, on with you now. Oh, now l...  \n",
       "789  But Hagrid, we're not allowed to do magic away...  \n",
       "790     I do, but your cousin don't, do he? Eh? Hmmhmm  \n",
       "791        Feels strange to be going home, doesn't it?  \n",
       "792                    I'm not going home, not really.  \n",
       "\n",
       "[68 rows x 3 columns]"
      ]
     },
     "execution_count": 8,
     "metadata": {},
     "output_type": "execute_result"
    }
   ],
   "source": [
    "harry_potter"
   ]
  },
  {
   "cell_type": "markdown",
   "id": "cf06cb44",
   "metadata": {},
   "source": [
    "#### ¡OJO! Cada escena es considerada un grupo"
   ]
  },
  {
   "cell_type": "markdown",
   "id": "0e5bcf7f",
   "metadata": {},
   "source": [
    "### Transformaos lo limpiado a json y csv"
   ]
  },
  {
   "cell_type": "code",
   "execution_count": 9,
   "id": "9f5966a1",
   "metadata": {},
   "outputs": [],
   "source": [
    "harry_potter.to_json(\"./harry_potter_to_json\", orient=\"records\")"
   ]
  },
  {
   "cell_type": "code",
   "execution_count": 11,
   "id": "bfb5c9ff",
   "metadata": {},
   "outputs": [],
   "source": [
    "harry_potter.to_csv('harry_potter')"
   ]
  }
 ],
 "metadata": {
  "kernelspec": {
   "display_name": "Python 3",
   "language": "python",
   "name": "python3"
  },
  "language_info": {
   "codemirror_mode": {
    "name": "ipython",
    "version": 3
   },
   "file_extension": ".py",
   "mimetype": "text/x-python",
   "name": "python",
   "nbconvert_exporter": "python",
   "pygments_lexer": "ipython3",
   "version": "3.8.5"
  }
 },
 "nbformat": 4,
 "nbformat_minor": 5
}
